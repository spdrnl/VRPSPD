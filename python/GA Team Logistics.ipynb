{
 "cells": [
  {
   "cell_type": "code",
   "execution_count": 17,
   "metadata": {},
   "outputs": [],
   "source": [
    "import datetime\n",
    "import numpy as np\n",
    "import pandas as pd\n",
    "from collections import namedtuple\n",
    "from dataclasses import dataclass\n",
    "from IPython.display import clear_output\n",
    "import matplotlib.pyplot as plt\n",
    "from collections import defaultdict"
   ]
  },
  {
   "cell_type": "markdown",
   "metadata": {},
   "source": [
    "## Packages\n",
    "The requirements are:\n",
    "- pandas\n",
    "- matplotlib"
   ]
  },
  {
   "cell_type": "markdown",
   "metadata": {},
   "source": [
    "## I/O related routines"
   ]
  },
  {
   "cell_type": "code",
   "execution_count": 121,
   "metadata": {},
   "outputs": [],
   "source": [
    "def write_out_results(report_file, hyper_params, bestsol, tag=\"\"):\n",
    "    \"\"\"Writes out the results to a csv file for later reference\"\"\"\n",
    "    with open(report_file, \"a+\") as out:\n",
    "        cost = f\"{bestsol.cost}:6.2f\"\n",
    "        costs = \",\".join([f\"{p}\" for p in bestsol.position])\n",
    "        maxit = hyper_params[\"maxit\"]\n",
    "        npop = hyper_params[\"npop\"]\n",
    "        rw = hyper_params[\"rw\"]\n",
    "        pc = hyper_params[\"pc\"]\n",
    "        mp = hyper_params[\"mp\"]\n",
    "        \n",
    "        out.write(\n",
    "            f\"\\\"{tag}\\\",{maxit},{npop},{rw},{pc},{mp},{bestsol.cost},{costs}\\n\")"
   ]
  },
  {
   "cell_type": "markdown",
   "metadata": {},
   "source": [
    "## Definition of a project"
   ]
  },
  {
   "cell_type": "code",
   "execution_count": 122,
   "metadata": {},
   "outputs": [],
   "source": [
    "# Project definition\n",
    "class Project(object):\n",
    "    \"\"\"Describes a project\"\"\"\n",
    "\n",
    "    def __init__(self, name, resource, earliest_spud_date, duration, daily_production):\n",
    "        self.name = name\n",
    "        self.resource = resource\n",
    "        self.earliest_spud_date = earliest_spud_date\n",
    "        self.duration = duration\n",
    "        self.daily_production = daily_production\n",
    "\n",
    "    def __str__(self):\n",
    "        str = f\"Name      : {self.name}\\n\"\n",
    "        str += f\"Resource  : {self.resource}\\n\"\n",
    "        str += f\"Spud year : {self.spud_year}\\n\"\n",
    "        str += f\"Duration  : {self.duration}\\n\"\n",
    "        production = [f\"{p:4.2f}\" for p in self.daily_production]\n",
    "        str += f\"Production: {production}\\n\"\n",
    "        return str"
   ]
  },
  {
   "cell_type": "markdown",
   "metadata": {},
   "source": [
    "## GA helper functions"
   ]
  },
  {
   "cell_type": "code",
   "execution_count": 431,
   "metadata": {},
   "outputs": [],
   "source": [
    "@dataclass\n",
    "class Individual:\n",
    "    position: np.ndarray = None\n",
    "    cost: float = None\n",
    "\n",
    "def normalize_locs(n_locs, n_helicopter, n_locations):\n",
    "    if n_locs is None:\n",
    "        n_locs = np.random.randint(0,8,(n_helicopter)) * 2 # Always even\n",
    "\n",
    "    # Make sure that the cumsum adds to n_locations\n",
    "    total_locs = n_locs[0]\n",
    "    for i in range(1, n_helicopter):\n",
    "        total_locs += n_locs[i]\n",
    "        if total_locs > n_locations:\n",
    "            diff = total_locs - n_locations\n",
    "            n_locs[i] = n_locs[i] - diff\n",
    "            total_locs -= diff \n",
    "    n_locs[-1] = n_locs[-1] + (n_locations - total_locs)       \n",
    "    return n_locs\n",
    "            \n",
    "def initialize_population(npop, transport_locations, helicopter_capacities, costfunc, bestsol):\n",
    "    n_helicopter = len(helicopter_capacities)\n",
    "    n_locations = len(transport_locations)\n",
    "    n_transports = len(transport_locations)/2\n",
    "    \n",
    "    pop = [Individual() for _ in range(npop)]\n",
    "    for i in range(npop):\n",
    "        perm_helicopter = np.random.permutation(np.arange(n_helicopter))\n",
    "        n_locs = normalize_locs(None, n_helicopter, n_locations)\n",
    "        perm_loc = np.random.permutation(transport_locations)\n",
    "        pop[i].position = np.hstack([perm_helicopter, n_locs, perm_loc])\n",
    "        pop[i].cost = costfunc(pop[i].position)\n",
    "        if pop[i].cost < bestsol.cost:\n",
    "            bestsol = pop[i]\n",
    "    return pop, bestsol\n",
    "\n",
    "\n",
    "def calc_probs(pop, p):\n",
    "    npop = len(pop)\n",
    "    pop = sorted(pop, key=lambda x: x.cost)\n",
    "    probs = p * np.power((1 - p), np.arange(0, npop))\n",
    "    probs[npop - 1] = probs[npop - 1] / p\n",
    "    return pop, probs\n",
    "\n",
    "\n",
    "def roulette_wheel_selection(pop, probs):\n",
    "    sample = np.random.choice(pop, size=2, replace=False, p=probs)\n",
    "    return sample[0], sample[1]\n",
    "\n",
    "\n",
    "def crossover(parent1, parent2, n_helicopters, n_locations):\n",
    "    \"\"\"Executes a rank permutation.\"\"\"\n",
    "\n",
    "    def generate_child_double(position1, position2, n_helicopters, n_locations, start, end):\n",
    "        \"\"\"Generate child using the pedefined cut range, cutting both helicopters and n_locs\"\"\"\n",
    "        # n_var\n",
    "        n_var = len(position1)//2\n",
    "\n",
    "        # Get projects and start times\n",
    "        p1_heli = position1[:n_var]\n",
    "        p1_nloc = position1[n_var:]\n",
    "\n",
    "        p2_heli = position2[:n_var]\n",
    "        p2_nloc = position2[n_var:]\n",
    "\n",
    "        # Get cut point\n",
    "        cut_points = np.random.choice(np.arange(0,n_var), 2)\n",
    "        start = np.min(cut_points)\n",
    "        end = np.max(cut_points)\n",
    "\n",
    "        # Initialize child with parent1 values and fill from parent 2\n",
    "        heli_cut = p1_heli[start:end]\n",
    "        nloc_cut = p1_nloc[start:end]\n",
    "\n",
    "        # Calculate overlaps\n",
    "        overlap = np.isin(p2_heli, heli_cut, invert=True)\n",
    "        rest_heli = p2_heli[overlap]\n",
    "        rest_nloc = p2_nloc[overlap]\n",
    "\n",
    "        child_heli = np.hstack([rest_heli[:start], heli_cut, rest_heli[start:]])\n",
    "        child_nloc = np.hstack([rest_nloc[:start], nloc_cut, rest_nloc[start:]])\n",
    "        child_nloc = normalize_locs(child_nloc, n_var, n_locations)\n",
    "\n",
    "        child_position = np.hstack([child_heli, child_nloc])\n",
    "\n",
    "        return child_position\n",
    "    \n",
    "    def generate_child(position1, position2, start, end):\n",
    "        \"\"\"Generate child using the pedefined cut range\"\"\"\n",
    "\n",
    "        # Initialize child with parent1 values and fill from parent 2\n",
    "        cut = position1[start:end]\n",
    "        rest = position2[np.isin(position2, cut, invert=True)]\n",
    "        child_position = np.hstack([rest[:start], position1[start:end], rest[start:]])\n",
    "\n",
    "        return child_position\n",
    "    \n",
    "    # Keep helicopters constant\n",
    "    heli_noc1 = parent1.position[:2*n_helicopters]\n",
    "    heli_noc2 = parent2.position[:2*n_helicopters]\n",
    "\n",
    "    # Create cutpoint\n",
    "    cut_points = np.random.choice(np.arange(n_helicopters), 2)\n",
    "    start = np.min(cut_points)\n",
    "    end = np.max(cut_points)\n",
    "    \n",
    "    # Crossover helicopters and locs\n",
    "    child_heli_nloc1 = generate_child_double(heli_noc1, heli_noc2, n_helicopters, n_locations, start, end)\n",
    "    child_heli_nloc2 = generate_child_double(heli_noc2, heli_noc1, n_helicopters, n_locations, start, end)\n",
    "        \n",
    "    # Crossover locations\n",
    "    skip = 2 * n_helicopters\n",
    "    \n",
    "    position1 = parent1.position[skip:]\n",
    "    position2 = parent2.position[skip:]\n",
    "    \n",
    "    cut_points = np.random.choice(np.arange(len(position1)), 2)\n",
    "    start = np.min(cut_points)\n",
    "    end = np.max(cut_points)\n",
    "\n",
    "    child_position1 = generate_child(position1, position2, start, end)\n",
    "    child_position2 = generate_child(position2, position1, start, end)\n",
    "\n",
    "    # Reassemble\n",
    "    child1 = np.hstack([child_heli_nloc1, child_position1])\n",
    "    child2 = np.hstack([child_heli_nloc2, child_position2])\n",
    "\n",
    "    return Individual(child1, None), Individual(child2, None)\n",
    "\n",
    "def mutate(x, nvar, n_helicopters, n_locations, mp=0.01):\n",
    "    # Mutate trip sizes\n",
    "    n_locs = x.position[n_helicopters:2*n_helicopters]\n",
    "    for i in range(0, n_helicopters):\n",
    "        if np.random.rand() < mp:\n",
    "            diff = np.random.choice([-2, 0, 2], 1)\n",
    "            n_locs[i] = n_locs[i] + diff\n",
    "            if n_locs[i] < 0:\n",
    "                n_locs[i] = 0\n",
    "    x.position[n_helicopters:2*n_helicopters] = normalize_locs(n_locs, n_helicopters, n_locations)\n",
    "    \n",
    "    # Mutate locations\n",
    "    skip = 2 * n_helicopters\n",
    "    for i in range(skip, nvar):\n",
    "        if np.random.rand() < mp:\n",
    "            swap = np.random.randint(skip, nvar)\n",
    "            x.position[i], x.position[swap] = x.position[swap], x.position[i]\n",
    "    return x"
   ]
  },
  {
   "cell_type": "markdown",
   "metadata": {},
   "source": [
    "## Main GA algorithm"
   ]
  },
  {
   "cell_type": "code",
   "execution_count": 343,
   "metadata": {},
   "outputs": [],
   "source": [
    "def run(problem, params):\n",
    "    # Problem Information\n",
    "    costfunc = problem[\"costfunc\"]\n",
    "    helicopter_capacities = problem[\"helicopter_capacities\"]\n",
    "    transport_locations = problem[\"transport_locations\"]\n",
    "    n_locations = len(transport_locations)\n",
    "    n_helicopters = len(helicopter_capacities)\n",
    "    nvar = 2 * n_helicopters + len(transport_locations)\n",
    "\n",
    "    # Parameters\n",
    "    maxit = params[\"maxit\"]\n",
    "    npop = params[\"npop\"]\n",
    "    pc = params[\"pc\"]\n",
    "    nc = int(np.round(pc * npop / 2) * 2)\n",
    "    mp = params[\"mp\"]\n",
    "    rw = params[\"rw\"]\n",
    "    beta = params[\"beta\"]\n",
    "\n",
    "    # Best Solution Ever Found\n",
    "    bestsol = Individual()\n",
    "    bestsol.cost = np.inf\n",
    "\n",
    "    # Initialize Population\n",
    "    pop, bestsol = initialize_population(npop, transport_locations, helicopter_capacities, costfunc, bestsol)\n",
    "\n",
    "    # Best Cost of Iterations\n",
    "    bestcost = np.empty(maxit)\n",
    "\n",
    "    # Main Loop\n",
    "    for it in range(maxit):\n",
    "\n",
    "        popc = [None for range in range(nc)]\n",
    "\n",
    "        for c in range(nc // 2):\n",
    "\n",
    "            # Probabilities for Rank selection\n",
    "            pop, probs = calc_probs(pop, rw)\n",
    "            p1, p2 = roulette_wheel_selection(pop, probs)\n",
    "    \n",
    "            # Perform Crossover\n",
    "            c1, c2 = crossover(p1, p2, n_helicopters, n_locations)\n",
    "\n",
    "            # Perform Mutation\n",
    "            c1 = mutate(c1, nvar, n_helicopters, n_locations, mp)\n",
    "            c2 = mutate(c2, nvar, n_helicopters, n_locations, mp)\n",
    "\n",
    "            # Evaluate First Offspring\n",
    "            c1.cost = costfunc(c1.position)\n",
    "            if c1.cost < bestsol.cost:\n",
    "                bestsol = c1\n",
    "\n",
    "            # Evaluate Second Offspring\n",
    "            c2.cost = costfunc(c2.position)\n",
    "            if c2.cost < bestsol.cost:\n",
    "                bestsol = c2\n",
    "\n",
    "            # Add Offsprings to popc\n",
    "            popc[2 * c] = c1\n",
    "            popc[2 * c + 1] = c2\n",
    "\n",
    "        # Elitism\n",
    "        pop += popc\n",
    "        pop = sorted(pop, key=lambda x: x.cost)\n",
    "        pop = pop[0:npop]\n",
    "\n",
    "        # Store Best Cost\n",
    "        bestcost[it] = bestsol.cost\n",
    "\n",
    "        # Show Iteration Information\n",
    "        clear_output(wait=True)\n",
    "        print(\"Iteration {}: Best Cost = {}\".format(it, bestcost[it]))\n",
    "\n",
    "    # Output\n",
    "    out = namedtuple('Point', ['pop', 'bestsol', 'bestcost'])\n",
    "    return out(pop, bestsol, bestcost)"
   ]
  },
  {
   "cell_type": "markdown",
   "metadata": {},
   "source": [
    "## Solve a planning in terms of successful flights, distances and max loads "
   ]
  },
  {
   "cell_type": "code",
   "execution_count": 555,
   "metadata": {},
   "outputs": [],
   "source": [
    "# Decode the platform aliases\n",
    "def decode(alias):\n",
    "    platform = alias % 100\n",
    "    alias -= platform\n",
    "    action = (alias % 1000)\n",
    "    alias -= action\n",
    "    team = alias // 1000\n",
    "    action = action // 100\n",
    "\n",
    "    return team, action, platform\n",
    "\n",
    "def extract_routes(planning, n_helicopters):\n",
    "    # Split the planning\n",
    "    helicopters = planning[:n_helicopters]\n",
    "    n_locs = planning[n_helicopters:2*n_helicopters]\n",
    "    locations = planning[2*n_helicopters:]\n",
    "\n",
    "    # Retrieve routes\n",
    "    routes = []\n",
    "    start = 0\n",
    "    for n_loc in n_locs:\n",
    "        route = locations[start:start+n_loc]\n",
    "        routes.append(route)\n",
    "        start += n_loc\n",
    "        \n",
    "    return routes\n",
    "\n",
    "# Solve a planning in terms of successful flights, distances and max loads \n",
    "def solve_planning(planning, n_helicopters, teams, distances):\n",
    "    # Split the planning in the relevant parts\n",
    "    helicopters = planning[:n_helicopters]\n",
    "    route_lens = planning[n_helicopters:2*n_helicopters]\n",
    "    all_locations = planning[2*n_helicopters:]\n",
    "    n_teams = len(teams)\n",
    "\n",
    "    # Initialize the max loads, distance per heli, successful flights\n",
    "    helicopter_max_loads = np.zeros((n_helicopters), dtype=np.int32)\n",
    "    helicopter_distances = np.zeros((n_helicopters), dtype=np.int32)\n",
    "    successful_transports = set()\n",
    "\n",
    "    # Calculate max_loads, distance per heli, succesful flights\n",
    "    slice_start = 0\n",
    "    helicopter_locations = -1 * np.ones((n_helicopters), dtype=np.int32)\n",
    "    for helicopter, slice_len in zip(helicopters, route_lens):\n",
    "        # Anything to be done?\n",
    "        if slice_len == 0:\n",
    "            continue\n",
    "\n",
    "        # Get the relevant locations for this route\n",
    "        locations = all_locations[slice_start:slice_start+slice_len]\n",
    "        slice_start += slice_len\n",
    "        n_locs = len(locations)\n",
    "\n",
    "        # Make aux tables to tally results\n",
    "        heli_table = np.zeros((n_teams, 3), dtype=np.int32)\n",
    "        flight_table = np.zeros((n_locs, 2), dtype=np.int32)\n",
    "\n",
    "        # Loop over all the locations in the route\n",
    "        for location_id, location_alias in enumerate(locations):\n",
    "            # Get flight information from the alias\n",
    "            team, action, platform = decode(location_alias)\n",
    "            team_size = teams[team]\n",
    "            \n",
    "            # Register flight distance\n",
    "            from_loc = helicopter_locations[helicopter]\n",
    "            if from_loc != -1:\n",
    "                helicopter_distances[helicopter] = helicopter_distances[helicopter] + distances[from_loc, platform]\n",
    "            helicopter_locations[helicopter] = platform\n",
    "\n",
    "            # Is it a team pickup?\n",
    "            if action == 1:\n",
    "                # Register team boarding in helicopter\n",
    "                heli_table[team, 0] = team_size\n",
    "                heli_table[team, 1] = location_alias \n",
    "\n",
    "                # Register the load increase in flight table\n",
    "                flight_table[location_id, 0] = team_size\n",
    "                flight_table[location_id, 1] = platform\n",
    "\n",
    "            # Or a team drop-of?   \n",
    "            elif action == 2:\n",
    "                # A team can only be dropped of if it has boarded\n",
    "                dropof_team_size = heli_table[team, 0]\n",
    "\n",
    "                # Drop-of successful\n",
    "                if dropof_team_size > 0:\n",
    "                    # Register ofboarding, a successful flight!\n",
    "                    heli_table[team, 2] = location_alias\n",
    "\n",
    "                    # Register load decrease\n",
    "                    flight_table[location_id, 0] = -dropof_team_size\n",
    "                    flight_table[location_id, 1] = platform\n",
    "\n",
    "        # Identify the successful flights where\n",
    "        # a team drop-of has been registered\n",
    "        for team in range(n_teams):\n",
    "            if heli_table[team, 2] > 0:\n",
    "                from_loc = heli_table[team, 1] \n",
    "                to_loc = heli_table[team, 2] \n",
    "                successful_transports.add((from_loc, to_loc))\n",
    "\n",
    "        # Calculate the max load of the flight\n",
    "        # First pack all boardings and dropoffs\n",
    "        # into single actions\n",
    "        for lid in range(n_locs-1):\n",
    "            # Is the next platform the same platform?\n",
    "            if flight_table[lid, 1] == flight_table[lid+1, 1]:\n",
    "                # Then consolidate the pickups and dropofs\n",
    "                flight_table[lid+1, 0] = flight_table[lid+1, 0] + flight_table[lid, 0]\n",
    "                flight_table[lid, 0] = 0\n",
    "\n",
    "        # Calculate the max load\n",
    "        max_load = np.max(np.cumsum(flight_table[:,0]))\n",
    "        helicopter_max_loads[helicopter] = max_load\n",
    "        \n",
    "    return successful_transports, helicopter_distances, helicopter_max_loads"
   ]
  },
  {
   "cell_type": "markdown",
   "metadata": {},
   "source": [
    "## Cost and penalty functions"
   ]
  },
  {
   "cell_type": "code",
   "execution_count": 605,
   "metadata": {},
   "outputs": [],
   "source": [
    "# Cost function\n",
    "def get_costfunc(helicopter_capacities, teams, all_team_transports, distances, report=False):\n",
    "    def costfunc(planning, report=False):\n",
    "        n_helicopters = len(helicopter_capacities)\n",
    "        \n",
    "        # Split the planning\n",
    "        helicopters = planning[:n_helicopters]\n",
    "        n_locs = planning[n_helicopters:2*n_helicopters]\n",
    "        locations = planning[2*n_helicopters:]\n",
    "        n_teams = len(teams)\n",
    "        \n",
    "        successful_transports, helicopter_distances, helicopter_max_loads = \\\n",
    "            solve_planning(planning, n_helicopters, teams, distances)\n",
    "\n",
    "        # How successful was the planning?\n",
    "        n_successful_transports = len(successful_transports)\n",
    "        unsuccessful_transports = all_team_transports - successful_transports \n",
    "        n_unsuccessful_transports = len(unsuccessful_transports)\n",
    "        \n",
    "        # Total flight distance\n",
    "        total_distance = sum(helicopter_distances)\n",
    "        \n",
    "        # Create the cost for this planning\n",
    "        transport_penalty = n_unsuccessful_transports * 1000\n",
    "        total_distance_penalty = total_distance\n",
    "        \n",
    "        # Even out the load\n",
    "        mean_distance = np.mean(helicopter_distances)\n",
    "        squared_deviations = np.square(helicopter_distances - mean_distance) \n",
    "        individual_distance_penalty = np.sum(squared_deviations)\n",
    "        \n",
    "        cost = total_distance_penalty + individual_distance_penalty + transport_penalty\n",
    "                \n",
    "        if (report):\n",
    "            routes = extract_routes(planning, n_helicopters)\n",
    "            print(f\"Total distance: {total_distance}\\n\")\n",
    "            out = \"\\n\\n\"\n",
    "            for route, helicopter in zip(routes, helicopters):\n",
    "                out += f\"helicopter {helicopter} {route} \\n\"\n",
    "            print(f\"Routes: {out}\")\n",
    "            print(f\"Max loads: {helicopter_max_loads}\\n\")\n",
    "            print(f\"Successful transports: {n_successful_transports}\")\n",
    "            out = \"\\n\"\n",
    "            for st in successful_transports:\n",
    "                out += f\"{st[0]} => {st[1]}\\n\"\n",
    "            print(out)\n",
    "            print(f\"Failed transports: {n_unsuccessful_transports}\")\n",
    "            out = \"\\n\"\n",
    "            for ft in unsuccessful_transports:\n",
    "                out += f\"{ft[0]} => {ft[1]}\\n\"\n",
    "            print(out)  \n",
    "            \n",
    "        return cost\n",
    "    \n",
    "    return costfunc"
   ]
  },
  {
   "cell_type": "markdown",
   "metadata": {},
   "source": [
    "## GA Run"
   ]
  },
  {
   "cell_type": "code",
   "execution_count": 594,
   "metadata": {},
   "outputs": [],
   "source": [
    "# Problem data\n",
    "input_file = \"input.csv\"\n",
    "output_file = \"logistics_out.csv\"\n",
    "\n",
    "np.random.seed(105)\n",
    "\n",
    "# Environment setup\n",
    "n_platforms = 10\n",
    "n_teams = 16\n",
    "n_helicopters = 4\n",
    "\n",
    "# Constraints\n",
    "helicopter_capacities = [25, 25, 15, 15]\n",
    "\n",
    "# Create platforms and teams\n",
    "platforms = np.random.randint(0,100, (n_platforms, 2))\n",
    "teams = np.random.randint(1,9,n_teams)\n",
    "\n",
    "# Create team locations and team assignments\n",
    "team_locations = np.random.randint(0,n_platforms,n_teams)\n",
    "team_assignments = np.random.randint(0,n_platforms,n_teams)\n",
    "\n",
    "# Cache distances\n",
    "def dist(plat1_id, plat2_id):\n",
    "    plat1_id = plat1_id%100\n",
    "    plat2_id = plat2_id%100\n",
    "    return np.linalg.norm(platforms[plat2_id, :] - platforms[plat1_id, :])\n",
    "\n",
    "distances = np.array([[dist(i,j) for j in range(n_platforms)] for i in range(n_platforms)])"
   ]
  },
  {
   "cell_type": "code",
   "execution_count": 595,
   "metadata": {},
   "outputs": [],
   "source": [
    "# Make aliases for the platforms\n",
    "# The teams and the actions are encoded in the aliases\n",
    "team_transports = []\n",
    "for team, (from_plat, to_plat) in enumerate(zip(team_locations, team_assignments)):\n",
    "    if not from_plat == to_plat:\n",
    "        team = team * 1000\n",
    "        from_plat = team + 100 + from_plat # 100 means pickup\n",
    "        to_plat = team + 200 + to_plat # 200 means drop-off\n",
    "        team_transports.append([from_plat, to_plat])\n",
    "team_transports = np.array(team_transports)\n",
    "\n",
    "# An overview of all locations to be visited\n",
    "transport_locations = np.reshape(team_transports[:,:2], (-1,))\n",
    "\n",
    "# A set of transports to be satisfied\n",
    "all_team_transports = set([(team_transports[i,0], team_transports[i,1]) for i in range(team_transports.shape[0])])\n",
    "    \n",
    "# Setup algorithm\n",
    "cost_function = get_costfunc(helicopter_capacities, teams, all_team_transports, distances)\n",
    "\n",
    "problem = {\n",
    "    \"costfunc\": cost_function,\n",
    "    \"helicopter_capacities\": helicopter_capacities,\n",
    "    \"transport_locations\": transport_locations\n",
    "}\n",
    "\n",
    "# Hyper parameters\n",
    "hyper_params = {\n",
    "    \"maxit\": 5000,\n",
    "    \"npop\": 64,\n",
    "    \"rw\": .09,\n",
    "    \"pc\": 1,\n",
    "    \"beta\": 1,\n",
    "    \"mp\": 0.1\n",
    "}"
   ]
  },
  {
   "cell_type": "code",
   "execution_count": 596,
   "metadata": {},
   "outputs": [
    {
     "name": "stdout",
     "output_type": "stream",
     "text": [
      "Iteration 4999: Best Cost = 678.0\n"
     ]
    }
   ],
   "source": [
    "# Run GA\n",
    "out = run(problem, hyper_params)\n",
    "\n",
    "# Report results to file\n",
    "write_out_results(output_file, hyper_params, out.bestsol, \"Test\")"
   ]
  },
  {
   "cell_type": "markdown",
   "metadata": {},
   "source": [
    "## Reporting"
   ]
  },
  {
   "cell_type": "code",
   "execution_count": 600,
   "metadata": {},
   "outputs": [
    {
     "name": "stdout",
     "output_type": "stream",
     "text": [
      "The total of all individual distances is 440.89\n"
     ]
    }
   ],
   "source": [
    "all_distance = 0\n",
    "for transport in all_team_transports:\n",
    "    all_distance += dist(transport[0], transport[1])\n",
    "print(f\"The total of all individual distances is {all_distance:6.2f}\")"
   ]
  },
  {
   "cell_type": "code",
   "execution_count": 606,
   "metadata": {},
   "outputs": [
    {
     "name": "stdout",
     "output_type": "stream",
     "text": [
      "Total distance: 664\n",
      "\n",
      "Routes: \n",
      "\n",
      "helicopter 0 [13106   101  1101  5105 13209  4108  4203  5201   202  1206] \n",
      "helicopter 3 [ 9106  9201 12105  7109 12200 15100  7201 15209] \n",
      "helicopter 1 [14107  6103  6204  3106 14205  3209] \n",
      "helicopter 2 [ 2107 10109  2208  8107 10200  8208] \n",
      "\n",
      "Max loads: [21 15  8 14]\n",
      "\n",
      "Successful transports: 15\n",
      "\n",
      "2107 => 2208\n",
      "13106 => 13209\n",
      "6103 => 6204\n",
      "4108 => 4203\n",
      "7109 => 7201\n",
      "9106 => 9201\n",
      "15100 => 15209\n",
      "101 => 202\n",
      "10109 => 10200\n",
      "8107 => 8208\n",
      "3106 => 3209\n",
      "14107 => 14205\n",
      "5105 => 5201\n",
      "12105 => 12200\n",
      "1101 => 1206\n",
      "\n",
      "Failed transports: 0\n",
      "\n",
      "\n",
      "678.0\n"
     ]
    },
    {
     "data": {
      "image/png": "[encoded data removed]",
      "text/plain": [
       "<Figure size 432x288 with 1 Axes>"
      ]
     },
     "metadata": {
      "needs_background": "light"
     },
     "output_type": "display_data"
    }
   ],
   "source": [
    "# Report results to screen\n",
    "cost_function = get_costfunc(helicopter_capacities, teams, all_team_transports, distances, report=True)\n",
    "print(cost_function(out.bestsol.position, True))\n",
    "# Make a plot of the cost progression\n",
    "plt.plot(out.bestcost)\n",
    "plt.xlim(0, hyper_params[\"maxit\"])\n",
    "plt.xlabel('Iterations')\n",
    "plt.ylabel('Best Cost')\n",
    "plt.title('Team logistics (GA)')\n",
    "plt.grid(True)\n",
    "plt.show()"
   ]
  },
  {
   "cell_type": "code",
   "execution_count": 603,
   "metadata": {},
   "outputs": [
    {
     "name": "stdout",
     "output_type": "stream",
     "text": [
      "[13106   101  1101  5105 13209  4108  4203  5201   202  1206]\n",
      "[ 9106  9201 12105  7109 12200 15100  7201 15209]\n",
      "[14107  6103  6204  3106 14205  3209]\n",
      "[ 2107 10109  2208  8107 10200  8208]\n",
      "[[  101   202]\n",
      " [ 1101  1206]\n",
      " [ 2107  2208]\n",
      " [ 3106  3209]\n",
      " [ 4108  4203]\n",
      " [ 5105  5201]\n",
      " [ 6103  6204]\n",
      " [ 7109  7201]\n",
      " [ 8107  8208]\n",
      " [ 9106  9201]\n",
      " [10109 10200]\n",
      " [12105 12200]\n",
      " [13106 13209]\n",
      " [14107 14205]\n",
      " [15100 15209]]\n"
     ]
    },
    {
     "data": {
      "image/png": "[encoded data removed]",
      "text/plain": [
       "<Figure size 504x504 with 1 Axes>"
      ]
     },
     "metadata": {
      "needs_background": "light"
     },
     "output_type": "display_data"
    },
    {
     "data": {
      "image/png": "[encoded data removed]",
      "text/plain": [
       "<Figure size 504x504 with 1 Axes>"
      ]
     },
     "metadata": {
      "needs_background": "light"
     },
     "output_type": "display_data"
    },
    {
     "data": {
      "image/png": "[encoded data removed]",
      "text/plain": [
       "<Figure size 504x504 with 1 Axes>"
      ]
     },
     "metadata": {
      "needs_background": "light"
     },
     "output_type": "display_data"
    },
    {
     "data": {
      "image/png": "[encoded data removed]",
      "text/plain": [
       "<Figure size 504x504 with 1 Axes>"
      ]
     },
     "metadata": {
      "needs_background": "light"
     },
     "output_type": "display_data"
    }
   ],
   "source": [
    "def plot_routes(platforms, route, title):\n",
    "        fig, ax = plt.subplots()\n",
    "        fig.set_figheight(7)\n",
    "        fig.set_figwidth(7)\n",
    "        ax.set_title(title)\n",
    "        ax.set_xlabel(\"x\")\n",
    "        ax.set_ylabel(\"y\")\n",
    "        x = platforms[:,0]\n",
    "        y = platforms[:,1]\n",
    "        ax.scatter(x, y)\n",
    "        for i in range(len(x)):\n",
    "            ax.annotate(f\"    {i}\", (x[i], y[i]))\n",
    "        \n",
    "        if len(route) > 0:\n",
    "            sx, sy = platforms[route[0]%100,0], platforms[route[0]%100,1]\n",
    "            for platform in route[1:]:\n",
    "                x,y = platforms[platform%100,0], platforms[platform%100,1]\n",
    "                if sx == x and sy == y: continue\n",
    "                ax.arrow(sx,sy,x-sx,y-sy, head_width=.75, head_length=.75, width=.001, fc='k', ec='k')\n",
    "                sx, sy = x, y\n",
    "            \n",
    "routes = extract_routes(out.bestsol.position, n_helicopters)\n",
    "\n",
    "for route in routes:\n",
    "    print(route)\n",
    "\n",
    "print(team_transports)\n",
    "    \n",
    "for h in range(n_helicopters):\n",
    "    plot_routes(platforms, routes[h], f\"Helicopter {h}\")"
   ]
  },
  {
   "cell_type": "markdown",
   "metadata": {},
   "source": [
    "## Fin"
   ]
  },
  {
   "cell_type": "code",
   "execution_count": 470,
   "metadata": {},
   "outputs": [
    {
     "data": {
      "text/plain": [
       "array([ 1,  3,  6, 10])"
      ]
     },
     "execution_count": 470,
     "metadata": {},
     "output_type": "execute_result"
    }
   ],
   "source": [
    "np.cumsum([1,2,3,4])"
   ]
  },
  {
   "cell_type": "code",
   "execution_count": null,
   "metadata": {},
   "outputs": [],
   "source": []
  }
 ],
 "metadata": {
  "kernelspec": {
   "display_name": "Python 3",
   "language": "python",
   "name": "python3"
  },
  "language_info": {
   "codemirror_mode": {
    "name": "ipython",
    "version": 3
   },
   "file_extension": ".py",
   "mimetype": "text/x-python",
   "name": "python",
   "nbconvert_exporter": "python",
   "pygments_lexer": "ipython3",
   "version": "3.8.6"
  }
 },
 "nbformat": 4,
 "nbformat_minor": 4
}
